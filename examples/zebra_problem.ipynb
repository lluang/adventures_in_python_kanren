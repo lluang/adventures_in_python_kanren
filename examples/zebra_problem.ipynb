{
 "cells": [
  {
   "cell_type": "markdown",
   "id": "03c0861a",
   "metadata": {},
   "source": [
    "Based on tutorial at https://github.com/MNoorFawi/logic-programming-in-python\n",
    "\n",
    "Let’s try to solve the famous Zebra Riddle. https://en.wikipedia.org/wiki/Zebra_Puzzle\n",
    "\n",
    "First here are the rules that we need to construct in the program."
   ]
  },
  {
   "cell_type": "code",
   "execution_count": 1,
   "id": "71846be4",
   "metadata": {},
   "outputs": [],
   "source": [
    "from kanren import *"
   ]
  },
  {
   "cell_type": "code",
   "execution_count": 3,
   "id": "0217a37c",
   "metadata": {},
   "outputs": [
    {
     "data": {
      "text/plain": [
       "(5,)"
      ]
     },
     "execution_count": 3,
     "metadata": {},
     "output_type": "execute_result"
    }
   ],
   "source": [
    "x = var()\n",
    "y = var()\n",
    "run(0, x, eq(x, y),\n",
    "          eq(y, 5))\n",
    "# (5,)"
   ]
  },
  {
   "cell_type": "code",
   "execution_count": 4,
   "id": "38c9d85e",
   "metadata": {},
   "outputs": [
    {
     "data": {
      "text/plain": [
       "(2, 3)"
      ]
     },
     "execution_count": 4,
     "metadata": {},
     "output_type": "execute_result"
    }
   ],
   "source": [
    "run(2, x, membero(x, (1, 2, 3)),  # x is a member of (1, 2, 3)\n",
    "          membero(x, (2, 3, 4)))  # x is a member of (2, 3, 4)\n",
    "# (2, 3)"
   ]
  },
  {
   "cell_type": "markdown",
   "id": "876201c2",
   "metadata": {},
   "source": [
    "Now let’s define the rules of the game and see how to solve it."
   ]
  },
  {
   "cell_type": "code",
   "execution_count": 8,
   "id": "2b1f3176",
   "metadata": {},
   "outputs": [
    {
     "data": {
      "text/plain": [
       "((('Norwegian', 'Kools', 'water', 'fox', 'yellow'),\n",
       "  ('Ukrainian', 'Chesterfield', 'tea', 'horse', 'blue'),\n",
       "  ('Englishman', 'Old Gold', 'milk', 'snails', 'red'),\n",
       "  ('Japanese', 'Parliaments', 'coffee', 'zebra', 'green'),\n",
       "  ('Spaniard', 'Lucky Strike', 'Orange Juice', 'dog', 'ivory')),)"
      ]
     },
     "execution_count": 8,
     "metadata": {},
     "output_type": "execute_result"
    }
   ],
   "source": [
    "# first define the right function which will set something to the right side of other things\n",
    "def right(x, y, lst):\n",
    "    \"\"\"Return a goal that's true when x is immediately to the right of y in lst.\n",
    "\n",
    "    lst is expected to be a 5-item sequence of houses. Since lst may be a logic\n",
    "    variable, we can't index or slice it directly. Instead enumerate the four\n",
    "    possible adjacent placements using eq and conde.\n",
    "    \"\"\"\n",
    "    return conde(\n",
    "        [eq((y, x, var(), var(), var()), lst)],\n",
    "        [eq((var(), y, x, var(), var()), lst)],\n",
    "        [eq((var(), var(), y, x, var()), lst)],\n",
    "        [eq((var(), var(), var(), y, x), lst)],\n",
    "    )\n",
    "\n",
    "# next function will check if two things next to each other    \n",
    "def next(x, y, lst):\n",
    "    # they are next to each other if x is to y right OR y is to x right\n",
    "    return conde([right(x, y, lst)], [right(y, x, lst)])\n",
    "\n",
    "# houses\n",
    "houses = var()\n",
    "\n",
    "# puzzle rules\n",
    "zebra_riddle = lall(\n",
    "   # houses is equal to 5 var as there are 5 houses\n",
    "   eq((var(), var(), var(), var(), var()), houses),\n",
    "   # house members\n",
    "   membero(('Englishman', var(), var(), var(), 'red'), houses),\n",
    "   membero(('Spaniard', var(), var(), 'dog', var()), houses),\n",
    "   membero(('Ukrainian', var(), 'tea', var(), var()), houses),\n",
    "   # put to the right\n",
    "   right((var(), var(), var(), var(), 'ivory'), (var(), var(), var(), var(), 'green'), houses),\n",
    "   membero((var(), var(), 'coffee', var(), 'green'), houses),\n",
    "   membero((var(), 'Old Gold', var(), 'snails', var()), houses),\n",
    "   membero((var(), 'Kools', var(), var(), 'yellow'), houses),\n",
    "   # define the milk house as a 5-var tuple in the middle of the 5-var houses\n",
    "   eq((var(), var(), (var(), var(), 'milk', var(), var()), var(), var()), houses),\n",
    "   # the same with the Norwegian in the first\n",
    "   eq((('Norwegian', var(), var(), var(), var()), var(), var(), var(), var()), houses),\n",
    "   # check next to\n",
    "   next((var(), 'Chesterfield', var(), var(), var()), (var(), var(), var(), 'fox', var()), houses),\n",
    "   next((var(), 'Kools', var(), var(), var()), (var(), var(), var(), 'horse', var()), houses),\n",
    "   membero((var(), 'Lucky Strike', 'Orange Juice', var(), var()), houses),\n",
    "   membero(('Japanese', \"Parliaments\", var(), var(), var()), houses),\n",
    "   next(('Norwegian', var(), var(), var(), var()), (var(), var(), var(), var(), 'blue'), houses),\n",
    "   # insert the water and zebra houses\n",
    "   membero((var(), var(), \"water\", var(), var()), houses),\n",
    "   membero((var(), var(), var(), 'zebra', var()), houses)\n",
    ")\n",
    "\n",
    "# run the rules to see the houses structures.\n",
    "run(0, houses, zebra_riddle)\n",
    "\n",
    "# ((('Norwegian', 'Kools', 'water', 'fox', 'yellow'),\n",
    "#   ('Ukrainian', 'Chesterfield', 'tea', 'horse', 'blue'),\n",
    "#   ('Englishman', 'Old Gold', 'milk', 'snails', 'red'),\n",
    "#   ('Japanese', 'Parliaments', 'coffee', 'zebra', 'green'),\n",
    "#   ('Spaniard', 'Lucky Strike', 'Orange Juice', 'dog', 'ivory')),)\n"
   ]
  },
  {
   "cell_type": "code",
   "execution_count": null,
   "id": "19b38678",
   "metadata": {},
   "outputs": [],
   "source": []
  }
 ],
 "metadata": {
  "kernelspec": {
   "display_name": "Python 3",
   "language": "python",
   "name": "python3"
  },
  "language_info": {
   "codemirror_mode": {
    "name": "ipython",
    "version": 3
   },
   "file_extension": ".py",
   "mimetype": "text/x-python",
   "name": "python",
   "nbconvert_exporter": "python",
   "pygments_lexer": "ipython3",
   "version": "3.11.7"
  }
 },
 "nbformat": 4,
 "nbformat_minor": 5
}
