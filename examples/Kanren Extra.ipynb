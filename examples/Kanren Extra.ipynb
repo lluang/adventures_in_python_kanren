{
 "cells": [
  {
   "cell_type": "code",
   "execution_count": null,
   "metadata": {},
   "outputs": [],
   "source": [
    "# Original from https://github.com/Pravinraja/Python-Kanren-Test\n",
    "#!pip install kanren # if not already installed"
   ]
  },
  {
   "cell_type": "code",
   "execution_count": 2,
   "metadata": {},
   "outputs": [
    {
     "name": "stdout",
     "output_type": "stream",
     "text": [
      "(5,)\n"
     ]
    }
   ],
   "source": [
    "#Sample test\n",
    "from kanren import run, eq, var\n",
    "x = var()\n",
    "#kanren enables the expression of relations and the search for values which satisfy them. \n",
    "\n",
    "#The following code is the \"Hello, world!\" of logic programming. It asks for `1` number, `x`, such that `x == 5`\n",
    "ans=run(1, x, eq(x, 5))\n",
    "print(ans)"
   ]
  },
  {
   "cell_type": "code",
   "execution_count": 3,
   "metadata": {},
   "outputs": [
    {
     "data": {
      "text/plain": [
       "(3,)"
      ]
     },
     "execution_count": 3,
     "metadata": {},
     "output_type": "execute_result"
    }
   ],
   "source": [
    "z = var()\n",
    "run(1, x, eq(x, z),\n",
    "eq(z, 3))"
   ]
  },
  {
   "cell_type": "code",
   "execution_count": 4,
   "metadata": {},
   "outputs": [],
   "source": [
    "from kanren import Relation, facts\n",
    "parent = Relation()\n",
    "facts(parent, (\"Homer\", \"Bart\"),\n",
    "                (\"Marge\", \"Bart\"),\n",
    "               (\"Homer\", \"Lisa\"),\n",
    "              (\"Marge\", \"Lisa\"),\n",
    "              (\"Homer\", \"Maggie\"),\n",
    "              (\"Marge\", \"Maggie\"),\n",
    "               (\"Abe\",  \"Homer\"))"
   ]
  },
  {
   "cell_type": "markdown",
   "metadata": {},
   "source": [
    "Replaced: \n",
    "ans = run(2, x, (parent, x, \"Bart\"))\n",
    "\n",
    "With:\n",
    "ans = run(2, x, parent(x, \"Bart\")) "
   ]
  },
  {
   "cell_type": "code",
   "execution_count": 5,
   "metadata": {},
   "outputs": [
    {
     "name": "stdout",
     "output_type": "stream",
     "text": [
      "('Marge', 'Homer')\n"
     ]
    }
   ],
   "source": [
    "ans = run(2, x, parent(x, \"Bart\"))\n",
    "print(ans)"
   ]
  },
  {
   "cell_type": "code",
   "execution_count": 6,
   "metadata": {},
   "outputs": [
    {
     "name": "stdout",
     "output_type": "stream",
     "text": [
      "('Maggie', 'Lisa', 'Bart')\n"
     ]
    }
   ],
   "source": [
    "child=run(3, x, parent(\"Homer\", x))\n",
    "print(child)"
   ]
  },
  {
   "cell_type": "code",
   "execution_count": 7,
   "metadata": {},
   "outputs": [
    {
     "name": "stdout",
     "output_type": "stream",
     "text": [
      "('Abe',)\n"
     ]
    }
   ],
   "source": [
    "#grandparents\n",
    "y = var()\n",
    "gp=run(1, x, parent(x, y),\n",
    "              parent(y, 'Bart'))\n",
    "\n",
    "print(gp)"
   ]
  },
  {
   "cell_type": "code",
   "execution_count": 8,
   "metadata": {},
   "outputs": [],
   "source": [
    "from kanren import Relation, facts\n",
    "food = Relation()\n",
    "facts(food, (\"Nathan\", \"Mexican\"),\n",
    "                (\"Tina\", \"Thai\"),\n",
    "               (\"Tim\", \"Vegetarian\"),\n",
    "              (\"Sally\", \"Italian\"),\n",
    "              (\"John\", \"Thai\"))"
   ]
  },
  {
   "cell_type": "code",
   "execution_count": 11,
   "metadata": {},
   "outputs": [
    {
     "name": "stdout",
     "output_type": "stream",
     "text": [
      "('Nathan',)\n"
     ]
    }
   ],
   "source": [
    "ans=run(2, x, food(x, \"Mexican\"))\n",
    "\n",
    "print(ans)"
   ]
  },
  {
   "cell_type": "code",
   "execution_count": 12,
   "metadata": {},
   "outputs": [
    {
     "name": "stdout",
     "output_type": "stream",
     "text": [
      "('Vegetarian',)\n"
     ]
    }
   ],
   "source": [
    "#Example\n",
    "child=run(3, x, food(\"Tim\", x))\n",
    "print(child)"
   ]
  },
  {
   "cell_type": "code",
   "execution_count": 14,
   "metadata": {},
   "outputs": [
    {
     "name": "stdout",
     "output_type": "stream",
     "text": [
      "('Tina', 'John')\n"
     ]
    }
   ],
   "source": [
    "#Then query the system to print out users who like a particular cuisine. \n",
    "#so If you ask for t users who like Thai, the system should say Tina and John\n",
    "ans=run(2, x, food(x, \"Thai\"))\n",
    "print(ans)"
   ]
  },
  {
   "cell_type": "code",
   "execution_count": 15,
   "metadata": {},
   "outputs": [],
   "source": [
    "from kanren import Relation, facts\n",
    "food = Relation()\n",
    "facts(food, (\"David\", \"Italian\"),\n",
    "                (\"Charlie\", \"American\"),\n",
    "               (\"Matt\", \"Chinese\"),\n",
    "              (\"Sally\", \"Italian\"),\n",
    "              (\"Jim\", \"American\"))"
   ]
  },
  {
   "cell_type": "code",
   "execution_count": 17,
   "metadata": {},
   "outputs": [
    {
     "name": "stdout",
     "output_type": "stream",
     "text": [
      "('Jim', 'Charlie')\n"
     ]
    }
   ],
   "source": [
    "#Then query the system to print out users who like a particular cuisine. \n",
    "#so If you ask for t users who like American, the system should say Charlie and Jim\n",
    "ans=run(2, x, food(x, \"American\"))\n",
    "print(ans)"
   ]
  },
  {
   "cell_type": "code",
   "execution_count": null,
   "metadata": {},
   "outputs": [],
   "source": []
  }
 ],
 "metadata": {
  "kernelspec": {
   "display_name": "Python 3",
   "language": "python",
   "name": "python3"
  },
  "language_info": {
   "codemirror_mode": {
    "name": "ipython",
    "version": 3
   },
   "file_extension": ".py",
   "mimetype": "text/x-python",
   "name": "python",
   "nbconvert_exporter": "python",
   "pygments_lexer": "ipython3",
   "version": "3.11.7"
  }
 },
 "nbformat": 4,
 "nbformat_minor": 4
}
