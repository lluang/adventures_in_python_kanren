{
 "cells": [
  {
   "cell_type": "code",
   "execution_count": null,
   "id": "aa59314f",
   "metadata": {},
   "outputs": [],
   "source": [
    "from kanren import Relation, facts, run, var\n",
    "from pprint import pprint"
   ]
  },
  {
   "cell_type": "code",
   "execution_count": null,
   "id": "7d919f88",
   "metadata": {},
   "outputs": [],
   "source": [
    "from dataclasses import dataclass\n",
    "from typing import Optional, Union\n",
    "\n",
    "@dataclass\n",
    "class Bird:\n",
    "    name: Optional[str] = None\n",
    "    family: Union[str, 'Family', None] = None\n",
    "    color: Optional[str] = None\n",
    "    order: Optional[str] = None\n",
    "    size: Optional[str] = None\n",
    "    flightype: Optional[str] = None\n",
    "    voice: Optional[str] = None\n",
    "    season: Optional[str] = None\n",
    "    country: Optional[str] = None\n",
    "    head: Optional[str] = None\n",
    "    cheek: Optional[str] = None\n",
    "    eats: Optional[str] = None\n",
    "    flight_profile: Optional[str] = None\n",
    "    tail: Optional[str] = None\n",
    "    throat: Optional[str] = None\n"
   ]
  },
  {
   "cell_type": "code",
   "execution_count": null,
   "id": "e5f5e9cc",
   "metadata": {},
   "outputs": [],
   "source": [
    "from dataclasses import dataclass\n",
    "\n",
    "@dataclass\n",
    "class Family:\n",
    "    name: str\n",
    "    order: str | None = None\n",
    "    size: str | None = None\n",
    "    wings: str | None = None\n",
    "    neck: str | None = None\n",
    "    color: str | None = None\n",
    "    flight: str | None = None\n",
    "    feed: str | None = None\n",
    "    head: str | None = None\n",
    "    tail: str | None = None\n",
    "    bill: str | None = None\n",
    "    eats: str | None = None\n",
    "\n",
    "# Create Family instances for the defined families\n",
    "families = {\n",
    "    'albatross': Family(name='albatross', order='tubenose', size='large', wings='long_narrow'),\n",
    "    'swan': Family(name='swan', order='waterfowl', neck='long', color='white', flight='ponderous'),\n",
    "    'goose': Family(name='goose', order='waterfowl', size='plump', flight='powerful'),\n",
    "    'duck': Family(name='duck', order='waterfowl', feed='on_water_surface', flight='agile'),\n",
    "    'vulture': Family(name='vulture', order='falconiforms', feed='scavange', wings='broad'),\n",
    "    'falcon': Family(name='falcon', order='falconiforms', wings='long_pointed', head='large', tail='narrow_at_tip'),\n",
    "    'flycatcher': Family(name='flycatcher', order='passerformes', bill='flat', eats='flying_insects'),\n",
    "    'swallow': Family(name='swallow', order='passerformes', wings='long_pointed', tail='forked', bill='short'),\n",
    "}\n",
    "\n",
    "\n",
    "\n"
   ]
  },
  {
   "cell_type": "code",
   "execution_count": null,
   "id": "8cc586d4",
   "metadata": {},
   "outputs": [],
   "source": [
    "birds = [\n",
    "    Bird(name='laysan-albatross', family='albatross', color='white'),\n",
    "    Bird(name='black-footed-albatross', family='albatross', color='dark'),\n",
    "    Bird(name='fulmar', order='tubenose', size='medium', flightype='flap-glide'),\n",
    "    Bird(name='whistling-swan', family='swan', voice='muffled-musical-whistle'),\n",
    "    Bird(name='trumpeter-swan', family='swan', voice='loud-trumpeting'),\n",
    "    Bird(name='canada-goose', family='goose', season='winter', country='united-states', head='black', cheek='white'),\n",
    "    Bird(name='canada-goose', family='goose', season='summer', country='canada', head='black', cheek='white'),\n",
    "    Bird(name='snow-goose', family='goose', color='white', voice='quack'),\n",
    "    Bird(name='mallard', family='duck', color='mottled-brown'),\n",
    "    Bird(name='pintail', family='duck', voice='short-whistle'),\n",
    "    Bird(name='turkey-vulture', family='vulture', tail='v-shaped'),\n",
    "    Bird(name='california-condor', family='vulture', tail='flat'),\n",
    "    Bird(name='sparrow-hawk', family='falcon', eats='insects'),\n",
    "    Bird(name='peregrine-falcon', family='falcon', eats='birds'),\n",
    "    Bird(name='great-crested-flycatcher', family='flycatcher', tail='long-rusty'),\n",
    "    Bird(name='ash-throated-flycatcher', family='flycatcher', throat='white'),\n",
    "    Bird(name='barn-swallow', family='swallow', tail='forked'),\n",
    "    Bird(name='cliff-swallow', family='swallow', tail='square'),\n",
    "    Bird(name='purple-martin', family='swallow', color='dark')\n",
    "]\n"
   ]
  },
  {
   "cell_type": "code",
   "execution_count": null,
   "id": "0218c073",
   "metadata": {},
   "outputs": [],
   "source": [
    "# Attach Family instances to Bird objects when possible\n",
    "for b in birds:\n",
    "    if isinstance(b.family, str) and b.family in families:\n",
    "        b.family = families[b.family]\n",
    "\n",
    "fam_attr = Relation()\n",
    "for fname, f in families.items():\n",
    "    if f.order:\n",
    "        facts(fam_attr, (fname, 'order', f.order))\n",
    "    if f.size:\n",
    "        facts(fam_attr, (fname, 'size', f.size))\n",
    "    if f.wings:\n",
    "        facts(fam_attr, (fname, 'wings', f.wings))\n",
    "    if f.neck:\n",
    "        facts(fam_attr, (fname, 'neck', f.neck))\n",
    "    if f.color:\n",
    "        facts(fam_attr, (fname, 'color', f.color))\n",
    "    if f.flight:\n",
    "        facts(fam_attr, (fname, 'flight', f.flight))\n",
    "    if f.feed:\n",
    "        facts(fam_attr, (fname, 'feed', f.feed))\n",
    "    if f.head:\n",
    "        facts(fam_attr, (fname, 'head', f.head))\n",
    "    if f.tail:\n",
    "        facts(fam_attr, (fname, 'tail', f.tail))\n",
    "    if f.bill:\n",
    "        facts(fam_attr, (fname, 'bill', f.bill))\n",
    "    if f.eats:\n",
    "        facts(fam_attr, (fname, 'eats', f.eats))\n"
   ]
  },
  {
   "cell_type": "code",
   "execution_count": null,
   "id": "d5ab34b8",
   "metadata": {},
   "outputs": [],
   "source": [
    "bird_attr = Relation()\n",
    "\n",
    "# Populate bird_attr with (bird_name, attribute, value) tuples for non-None attributes\n",
    "for b in birds:\n",
    "    attrs = {\n",
    "        'family': b.family.name if isinstance(b.family, Family) else b.family,\n",
    "        'color': b.color,\n",
    "        'order': b.order,\n",
    "        'size': b.size,\n",
    "        'flightype': b.flightype,\n",
    "        'voice': b.voice,\n",
    "        'season': b.season,\n",
    "        'country': b.country,\n",
    "        'head': b.head,\n",
    "        'cheek': b.cheek,\n",
    "        'eats': b.eats,\n",
    "        'flight_profile': b.flight_profile,\n",
    "        'tail': b.tail,\n",
    "        'throat': b.throat,\n",
    "    }\n",
    "    for attr_name, val in attrs.items():\n",
    "        if val is not None:\n",
    "            facts(bird_attr, (b.name, attr_name, val))\n",
    "\n"
   ]
  },
  {
   "cell_type": "markdown",
   "id": "5f65430d",
   "metadata": {},
   "source": [
    "Try some searches by characteristic"
   ]
  },
  {
   "cell_type": "code",
   "execution_count": null,
   "id": "67a5b092",
   "metadata": {},
   "outputs": [],
   "source": [
    "# Example: find all birds with color 'white'\n",
    "x = var()\n",
    "white_birds = run(0, x, bird_attr(x, 'color', 'white'))\n",
    "print('White birds (from bird_attr):', white_birds)"
   ]
  },
  {
   "cell_type": "code",
   "execution_count": null,
   "id": "a1a11409",
   "metadata": {},
   "outputs": [],
   "source": [
    "#bird-name -> color\", \"\n",
    "color_rel = Relation()\n",
    "for b in birds:\n",
    "    # use the bird name and its color\n",
    "    facts(color_rel, (b.name, b.color))\n",
    "x = var() \n",
    "white_names = run(0, x, color_rel(x, 'white'))"
   ]
  },
  {
   "cell_type": "code",
   "execution_count": null,
   "id": "5dab098e",
   "metadata": {},
   "outputs": [],
   "source": [
    "white_names"
   ]
  },
  {
   "cell_type": "code",
   "execution_count": null,
   "id": "c6849aea",
   "metadata": {},
   "outputs": [],
   "source": [
    "family_rel = Relation()\n",
    "for b in birds:\n",
    "    fam_val = b.family.name if isinstance(b.family, Family) else b.family\n",
    "    facts(family_rel, (b.name, fam_val))\n",
    "x = var()\n",
    "swallow_families = run(0, x, family_rel(x, 'swallow'))\n",
    "swallow_families"
   ]
  },
  {
   "cell_type": "code",
   "execution_count": null,
   "id": "ab8bdf43",
   "metadata": {},
   "outputs": [],
   "source": [
    "run(0, x, bird_attr(x, 'family', 'swallow')) "
   ]
  },
  {
   "cell_type": "code",
   "execution_count": null,
   "id": "e4173222",
   "metadata": {},
   "outputs": [],
   "source": [
    "run(0, x, bird_attr(x, 'family', 'albatross')) "
   ]
  },
  {
   "cell_type": "code",
   "execution_count": null,
   "id": "9740a402",
   "metadata": {},
   "outputs": [],
   "source": [
    "# Example: find families with order 'passerformes'\n",
    "x = var()\n",
    "run(0, x, fam_attr(x, 'order', 'passerformes'))"
   ]
  },
  {
   "cell_type": "code",
   "execution_count": null,
   "id": "34819c18",
   "metadata": {},
   "outputs": [],
   "source": [
    "run(0, x, fam_attr(x, 'wings', 'long_pointed'))"
   ]
  },
  {
   "cell_type": "code",
   "execution_count": null,
   "id": "ed06fc63",
   "metadata": {},
   "outputs": [],
   "source": [
    "def get_birds_by_attr(attr, value):\n",
    "    \"\"\"Return Bird objects whose attribute `attr` equals `value`.\n",
    "\n",
    "    This uses the `bird_attr` Relation (bird_name -> attr -> value) when available,\n",
    "    and falls back to inspecting Bird dataclass fields and attached Family instances.\n",
    "    \"\"\"\n",
    "    x = var()\n",
    "    names = set()\n",
    "\n",
    "    # Use bird_attr if it exists\n",
    "    try:\n",
    "        names.update(run(0, x, bird_attr(x, attr, value)))\n",
    "    except NameError:\n",
    "        # bird_attr not defined; continue to other checks\n",
    "        pass\n",
    "\n",
    "    results = []\n",
    "    # Add Bird objects whose name was found via bird_attr\n",
    "    name_to_bird = {b.name: b for b in birds}\n",
    "    for n in names:\n",
    "        if n in name_to_bird:\n",
    "            results.append(name_to_bird[n])\n",
    "\n",
    "    # Also inspect Bird attributes and attached Family attributes\n",
    "    for b in birds:\n",
    "        # Skip if already included\n",
    "        if b in results:\n",
    "            continue\n",
    "        # Direct bird attribute\n",
    "        if hasattr(b, attr) and getattr(b, attr, None) == value:\n",
    "            results.append(b)\n",
    "            continue\n",
    "        # If family attached as Family instance, check its attributes\n",
    "        fam = b.family\n",
    "        if isinstance(fam, Family):\n",
    "            if getattr(fam, attr, None) == value:\n",
    "                results.append(b)\n",
    "                continue\n",
    "        # If family is a string, check if attr == 'family' and matches\n",
    "        if attr == 'family' and isinstance(fam, str) and fam == value:\n",
    "            results.append(b)\n",
    "\n",
    "    return results\n",
    "\n"
   ]
  },
  {
   "cell_type": "code",
   "execution_count": null,
   "id": "527959f5",
   "metadata": {},
   "outputs": [],
   "source": [
    "def get_birds_by_family_attr(attr, value):\n",
    "    \"\"\"Return Bird objects whose family's attribute `attr` equals `value`.\n",
    "\n",
    "    This checks both the `fam_attr` relation (family_name -> attribute -> value)\n",
    "    and Family instances attached to Bird.family.\n",
    "    \"\"\"\n",
    "    # Query families via the kanren relation first (gives family name strings)\n",
    "    x = var()\n",
    "    fam_names = set(run(0, x, fam_attr(x, attr, value)))\n",
    "\n",
    "    results = []\n",
    "    for b in birds:\n",
    "        # If family still a string, check against fam_names\n",
    "        if isinstance(b.family, str):\n",
    "            if b.family in fam_names:\n",
    "                results.append(b)\n",
    "        # If family attached as a Family instance, check its attribute directly\n",
    "        elif b.family is None:\n",
    "            continue\n",
    "        else:\n",
    "            if getattr(b.family, attr, None) == value:\n",
    "                results.append(b)\n",
    "    return results\n",
    "\n",
    "\n"
   ]
  },
  {
   "cell_type": "code",
   "execution_count": null,
   "id": "13c9a4ae",
   "metadata": {},
   "outputs": [],
   "source": [
    "# Example usage\n",
    "print('Example: birds with color == \"white\" ->', [b.name for b in get_birds_by_attr('color', 'white')])"
   ]
  },
  {
   "cell_type": "code",
   "execution_count": null,
   "id": "164b74d4",
   "metadata": {},
   "outputs": [],
   "source": [
    "# Example: all birds whose family order is 'passerformes' (flycatcher, swallow)\n",
    "example = get_birds_by_family_attr('order', 'passerformes')\n",
    "print([b.name for b in example])"
   ]
  },
  {
   "cell_type": "markdown",
   "id": "72e4819b",
   "metadata": {},
   "source": [
    "Quick-check/assertion code to confirm attachment of Family to birds"
   ]
  },
  {
   "cell_type": "code",
   "execution_count": null,
   "id": "a91d56a2",
   "metadata": {},
   "outputs": [],
   "source": [
    "# Quick checks that Family instances were attached and helper works\n",
    "attached = [b.name for b in birds if isinstance(b.family, Family)]\n",
    "still_strings = [b.name for b in birds if isinstance(b.family, str)]\n",
    "\n",
    "print('Birds with Family instances attached (sample):')\n",
    "pprint(attached)\n",
    "print('\\nBirds still holding a family string (not matched to families dict):')\n",
    "pprint(still_strings)\n",
    "\n",
    "# Sanity assertion: known flycatchers should have been attached\n",
    "assert 'great-crested-flycatcher' in attached, \"great-crested-flycatcher should have Family attached\"\n",
    "assert 'ash-throated-flycatcher' in attached, \"ash-throated-flycatcher should have Family attached\"\n",
    "\n",
    "# Test the helper get_birds_by_family_attr for order 'passerformes'\n",
    "res = get_birds_by_family_attr('order', 'passerformes')\n",
    "res_names = {b.name for b in res}\n",
    "print('\\nBirds returned by get_birds_by_family_attr(\"order\", \"passerformes\"):')\n",
    "pprint(sorted(res_names))\n",
    "\n",
    "expected = {\n",
    "    'great-crested-flycatcher',\n",
    "    'ash-throated-flycatcher',\n",
    "    'barn-swallow',\n",
    "    'cliff-swallow',\n",
    "    'purple-martin'\n",
    "}\n",
    "missing = expected - res_names\n",
    "if missing:\n",
    "    print('\\nWarning: expected family members missing:', missing)\n",
    "else:\n",
    "    print('\\nAll expected passerformes members found.')\n",
    "\n",
    "# Final assertion to ensure helper returns at least the expected names\n",
    "assert expected.issubset(res_names), f\"Missing expected passerformes members: {expected - res_names}\"\n",
    "\n",
    "print('\\nAll checks passed.')"
   ]
  }
 ],
 "metadata": {
  "kernelspec": {
   "display_name": "Python 3",
   "language": "python",
   "name": "python3"
  },
  "language_info": {
   "codemirror_mode": {
    "name": "ipython",
    "version": 3
   },
   "file_extension": ".py",
   "mimetype": "text/x-python",
   "name": "python",
   "nbconvert_exporter": "python",
   "pygments_lexer": "ipython3",
   "version": "3.11.7"
  }
 },
 "nbformat": 4,
 "nbformat_minor": 5
}
