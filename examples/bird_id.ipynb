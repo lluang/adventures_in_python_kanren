{
 "cells": [
  {
   "cell_type": "code",
   "execution_count": 52,
   "id": "aa59314f",
   "metadata": {},
   "outputs": [],
   "source": [
    "from kanren import Relation, facts, run, var\n",
    "from pprint import pprint"
   ]
  },
  {
   "cell_type": "code",
   "execution_count": 53,
   "id": "7d919f88",
   "metadata": {},
   "outputs": [],
   "source": [
    "from dataclasses import dataclass\n",
    "from typing import Optional, Union\n",
    "\n",
    "@dataclass\n",
    "class Bird:\n",
    "    name: Optional[str] = None\n",
    "    family: Union[str, 'Family', None] = None\n",
    "    color: Optional[str] = None\n",
    "    order: Union[str, 'Order', None] = None\n",
    "    size: Optional[str] = None\n",
    "    flightype: Optional[str] = None\n",
    "    voice: Optional[str] = None\n",
    "    season: Optional[str] = None\n",
    "    country: Optional[str] = None\n",
    "    head: Optional[str] = None\n",
    "    cheek: Optional[str] = None\n",
    "    eats: Optional[str] = None\n",
    "    flight_profile: Optional[str] = None\n",
    "    tail: Optional[str] = None\n",
    "    throat: Optional[str] = None\n"
   ]
  },
  {
   "cell_type": "code",
   "execution_count": 54,
   "id": "e5f5e9cc",
   "metadata": {},
   "outputs": [],
   "source": [
    "@dataclass\n",
    "class Family:\n",
    "    name: str\n",
    "    order: Union[str, 'Order', None] = None\n",
    "    size: str | None = None\n",
    "    wings: str | None = None\n",
    "    neck: str | None = None\n",
    "    color: str | None = None\n",
    "    flight: str | None = None\n",
    "    feed: str | None = None\n",
    "    head: str | None = None\n",
    "    tail: str | None = None\n",
    "    bill: str | None = None\n",
    "    eats: str | None = None\n",
    "\n",
    "# Create Family instances for the defined families\n",
    "families = {\n",
    "    'albatross': Family(name='albatross', order='tubenose', size='large', wings='long_narrow'),\n",
    "    'swan': Family(name='swan', order='waterfowl', neck='long', color='white', flight='ponderous'),\n",
    "    'goose': Family(name='goose', order='waterfowl', size='plump', flight='powerful'),\n",
    "    'duck': Family(name='duck', order='waterfowl', feed='on_water_surface', flight='agile'),\n",
    "    'vulture': Family(name='vulture', order='falconiforms', feed='scavange', wings='broad'),\n",
    "    'falcon': Family(name='falcon', order='falconiforms', wings='long_pointed', head='large', tail='narrow_at_tip'),\n",
    "    'flycatcher': Family(name='flycatcher', order='passerformes', bill='flat', eats='flying_insects'),\n",
    "    'swallow': Family(name='swallow', order='passerformes', wings='long_pointed', tail='forked', bill='short'),\n",
    "}\n",
    "\n",
    "\n",
    "\n"
   ]
  },
  {
   "cell_type": "code",
   "execution_count": null,
   "id": "b08ec330",
   "metadata": {},
   "outputs": [],
   "source": [
    "@dataclass\n",
    "class Order:\n",
    "    name: str\n",
    "    nostrils: str | None = None\n",
    "    live: str | None = None\n",
    "    feet: str | None = None\n",
    "    bill: str | None = None\n",
    "    eats: str | None = None\n",
    "    \n",
    "orders = {\n",
    "    'tubenose': Order(name='tubenose', \n",
    "                        nostrils='external_tubular',\n",
    "                        live='at_sea',                      bill='hooked'\n",
    "                        ),\n",
    "    'waterfowl': Order(name='waterfowl', \n",
    "                        feet='webbed',\n",
    "                        bill='flat'\n",
    "                        ),\n",
    "    'falconiforms': Order(name='falconiforms',\n",
    "                        feet='curved_talons',\n",
    "                        bill='sharp_hooked',\n",
    "                        eats='meat'\n",
    "                        ),\n",
    "    'passerformes': Order(name='passerformes',\n",
    "                        feet='one_long_backward_toe'\n",
    "                        )\n",
    "}"
   ]
  },
  {
   "cell_type": "code",
   "execution_count": 56,
   "id": "8cc586d4",
   "metadata": {},
   "outputs": [],
   "source": [
    "birds = [\n",
    "    Bird(name='laysan-albatross', family='albatross', color='white'),\n",
    "    Bird(name='black-footed-albatross', family='albatross', color='dark'),\n",
    "    Bird(name='fulmar', order='tubenose', size='medium', flightype='flap-glide'),\n",
    "    Bird(name='whistling-swan', family='swan', voice='muffled-musical-whistle'),\n",
    "    Bird(name='trumpeter-swan', family='swan', voice='loud-trumpeting'),\n",
    "    Bird(name='canada-goose', family='goose', season='winter', country='united-states', head='black', cheek='white'),\n",
    "    Bird(name='canada-goose', family='goose', season='summer', country='canada', head='black', cheek='white'),\n",
    "    Bird(name='snow-goose', family='goose', color='white', voice='quack'),\n",
    "    Bird(name='mallard', family='duck', color='mottled-brown'),\n",
    "    Bird(name='pintail', family='duck', voice='short-whistle'),\n",
    "    Bird(name='turkey-vulture', family='vulture', tail='v-shaped'),\n",
    "    Bird(name='california-condor', family='vulture', tail='flat'),\n",
    "    Bird(name='sparrow-hawk', family='falcon', eats='insects'),\n",
    "    Bird(name='peregrine-falcon', family='falcon', eats='birds'),\n",
    "    Bird(name='great-crested-flycatcher', family='flycatcher', tail='long-rusty'),\n",
    "    Bird(name='ash-throated-flycatcher', family='flycatcher', throat='white'),\n",
    "    Bird(name='barn-swallow', family='swallow', tail='forked'),\n",
    "    Bird(name='cliff-swallow', family='swallow', tail='square'),\n",
    "    Bird(name='purple-martin', family='swallow', color='dark')\n",
    "]\n"
   ]
  },
  {
   "cell_type": "code",
   "execution_count": 57,
   "id": "9b629d77",
   "metadata": {},
   "outputs": [],
   "source": [
    "# Attach order instances to family objects when possible\n",
    "\n",
    "# Iterate Family instances (values) so `f` is a Family object\n",
    "for f in families.values():\n",
    "    if isinstance(f.order, str) and f.order in orders:\n",
    "        f.order = orders[f.order]\n",
    "\n",
    "order_attr = Relation()\n",
    "for oname, o in orders.items():\n",
    "    if o.nostrils:\n",
    "        facts(order_attr, (oname, 'nostrils', o.nostrils))\n",
    "    if o.live:\n",
    "        facts(order_attr, (oname, 'live', o.live))\n",
    "    if o.feet:\n",
    "        facts(order_attr, (oname, 'feet', o.feet))\n",
    "    if o.bill:\n",
    "        facts(order_attr, (oname, 'bill', o.bill))\n",
    "    if o.eats:\n",
    "        facts(order_attr, (oname, 'eats', o.eats))\n"
   ]
  },
  {
   "cell_type": "code",
   "execution_count": 58,
   "id": "0218c073",
   "metadata": {},
   "outputs": [],
   "source": [
    "# Attach Family instances to Bird objects when possible\n",
    "for b in birds:\n",
    "    if isinstance(b.family, str) and b.family in families:\n",
    "        b.family = families[b.family]\n",
    "\n",
    "fam_attr = Relation()\n",
    "# Populate fam_attr using hashable attribute values (use name strings for attached Order instances)\n",
    "for fname, f in families.items():\n",
    "    # order may have been replaced with an Order instance; use its name string if so\n",
    "    if f.order:\n",
    "        order_val = f.order.name if hasattr(f.order, 'name') else f.order\n",
    "        facts(fam_attr, (fname, 'order', order_val))\n",
    "    if f.size:\n",
    "        facts(fam_attr, (fname, 'size', f.size))\n",
    "    if f.wings:\n",
    "        facts(fam_attr, (fname, 'wings', f.wings))\n",
    "    if f.neck:\n",
    "        facts(fam_attr, (fname, 'neck', f.neck))\n",
    "    if f.color:\n",
    "        facts(fam_attr, (fname, 'color', f.color))\n",
    "    if f.flight:\n",
    "        facts(fam_attr, (fname, 'flight', f.flight))\n",
    "    if f.feed:\n",
    "        facts(fam_attr, (fname, 'feed', f.feed))\n",
    "    if f.head:\n",
    "        facts(fam_attr, (fname, 'head', f.head))\n",
    "    if f.tail:\n",
    "        facts(fam_attr, (fname, 'tail', f.tail))\n",
    "    if f.bill:\n",
    "        facts(fam_attr, (fname, 'bill', f.bill))\n",
    "    if f.eats:\n",
    "        facts(fam_attr, (fname, 'eats', f.eats))\n"
   ]
  },
  {
   "cell_type": "code",
   "execution_count": 59,
   "id": "d5ab34b8",
   "metadata": {},
   "outputs": [],
   "source": [
    "bird_attr = Relation()\n",
    "\n",
    "# Populate bird_attr with (bird_name, attribute, value) tuples for non-None attributes\n",
    "for b in birds:\n",
    "    attrs = {\n",
    "        'family': b.family.name if isinstance(b.family, Family) else b.family,\n",
    "        'color': b.color,\n",
    "        'order': b.order,\n",
    "        'size': b.size,\n",
    "        'flightype': b.flightype,\n",
    "        'voice': b.voice,\n",
    "        'season': b.season,\n",
    "        'country': b.country,\n",
    "        'head': b.head,\n",
    "        'cheek': b.cheek,\n",
    "        'eats': b.eats,\n",
    "        'flight_profile': b.flight_profile,\n",
    "        'tail': b.tail,\n",
    "        'throat': b.throat,\n",
    "    }\n",
    "    for attr_name, val in attrs.items():\n",
    "        if val is not None:\n",
    "            facts(bird_attr, (b.name, attr_name, val))\n",
    "\n"
   ]
  },
  {
   "cell_type": "markdown",
   "id": "5f65430d",
   "metadata": {},
   "source": [
    "Try some searches by characteristic"
   ]
  },
  {
   "cell_type": "code",
   "execution_count": 60,
   "id": "67a5b092",
   "metadata": {},
   "outputs": [
    {
     "name": "stdout",
     "output_type": "stream",
     "text": [
      "White birds (from bird_attr): ('laysan-albatross', 'snow-goose')\n"
     ]
    }
   ],
   "source": [
    "# Example: find all birds with color 'white'\n",
    "x = var()\n",
    "white_birds = run(0, x, bird_attr(x, 'color', 'white'))\n",
    "print('White birds (from bird_attr):', white_birds)"
   ]
  },
  {
   "cell_type": "code",
   "execution_count": 61,
   "id": "a1a11409",
   "metadata": {},
   "outputs": [],
   "source": [
    "#bird-name -> color\", \"\n",
    "color_rel = Relation()\n",
    "for b in birds:\n",
    "    # use the bird name and its color\n",
    "    facts(color_rel, (b.name, b.color))\n",
    "x = var() \n",
    "white_names = run(0, x, color_rel(x, 'white'))"
   ]
  },
  {
   "cell_type": "code",
   "execution_count": 62,
   "id": "5dab098e",
   "metadata": {},
   "outputs": [
    {
     "data": {
      "text/plain": [
       "('snow-goose', 'laysan-albatross')"
      ]
     },
     "execution_count": 62,
     "metadata": {},
     "output_type": "execute_result"
    }
   ],
   "source": [
    "white_names"
   ]
  },
  {
   "cell_type": "code",
   "execution_count": 63,
   "id": "c6849aea",
   "metadata": {},
   "outputs": [
    {
     "data": {
      "text/plain": [
       "('purple-martin', 'barn-swallow', 'cliff-swallow')"
      ]
     },
     "execution_count": 63,
     "metadata": {},
     "output_type": "execute_result"
    }
   ],
   "source": [
    "family_rel = Relation()\n",
    "for b in birds:\n",
    "    fam_val = b.family.name if isinstance(b.family, Family) else b.family\n",
    "    facts(family_rel, (b.name, fam_val))\n",
    "x = var()\n",
    "swallow_families = run(0, x, family_rel(x, 'swallow'))\n",
    "swallow_families"
   ]
  },
  {
   "cell_type": "code",
   "execution_count": 64,
   "id": "ab8bdf43",
   "metadata": {},
   "outputs": [
    {
     "data": {
      "text/plain": [
       "('cliff-swallow', 'purple-martin', 'barn-swallow')"
      ]
     },
     "execution_count": 64,
     "metadata": {},
     "output_type": "execute_result"
    }
   ],
   "source": [
    "run(0, x, bird_attr(x, 'family', 'swallow')) "
   ]
  },
  {
   "cell_type": "code",
   "execution_count": 65,
   "id": "e4173222",
   "metadata": {},
   "outputs": [
    {
     "data": {
      "text/plain": [
       "('black-footed-albatross', 'laysan-albatross')"
      ]
     },
     "execution_count": 65,
     "metadata": {},
     "output_type": "execute_result"
    }
   ],
   "source": [
    "run(0, x, bird_attr(x, 'family', 'albatross')) "
   ]
  },
  {
   "cell_type": "code",
   "execution_count": 74,
   "id": "b9adc755",
   "metadata": {},
   "outputs": [
    {
     "data": {
      "text/plain": [
       "()"
      ]
     },
     "execution_count": 74,
     "metadata": {},
     "output_type": "execute_result"
    }
   ],
   "source": [
    "run(0, x, bird_attr(x, 'order', 'passerformes')) "
   ]
  },
  {
   "cell_type": "code",
   "execution_count": 66,
   "id": "9740a402",
   "metadata": {},
   "outputs": [
    {
     "data": {
      "text/plain": [
       "('swallow', 'flycatcher')"
      ]
     },
     "execution_count": 66,
     "metadata": {},
     "output_type": "execute_result"
    }
   ],
   "source": [
    "# Example: find families with order 'passerformes'\n",
    "x = var()\n",
    "run(0, x, fam_attr(x, 'order', 'passerformes'))"
   ]
  },
  {
   "cell_type": "code",
   "execution_count": 67,
   "id": "34819c18",
   "metadata": {},
   "outputs": [
    {
     "data": {
      "text/plain": [
       "('falcon', 'swallow')"
      ]
     },
     "execution_count": 67,
     "metadata": {},
     "output_type": "execute_result"
    }
   ],
   "source": [
    "run(0, x, fam_attr(x, 'wings', 'long_pointed'))"
   ]
  },
  {
   "cell_type": "code",
   "execution_count": null,
   "id": "ed06fc63",
   "metadata": {},
   "outputs": [],
   "source": [
    "# Improved get_birds_by_attr helper\n",
    "from kanren import var, run\n",
    "from typing import List\n",
    "\n",
    "def get_birds_by_attr(attr: str, value, *, return_names: bool = False) -> List:\n",
    "    \"\"\"Return Bird objects (or names) whose attribute `attr` equals `value`.\n",
    "\n",
    "    Features:\n",
    "    - Uses the `bird_attr` Relation if available to find bird names quickly.\n",
    "    - Falls back to inspecting Bird dataclass fields.\n",
    "    - If attr is of form 'family.<subattr>' checks attached Family instances' attributes.\n",
    "    - Deduplicates results and preserves insertion order of birds list.\n",
    "\n",
    "    Args:\n",
    "        attr: attribute name or 'family.<subattr>' for family attributes.\n",
    "        value: value to match.\n",
    "        return_names: if True return list of bird name strings; otherwise Bird objects.\n",
    "    \"\"\"\n",
    "    x = var()\n",
    "    found_names = []\n",
    "    seen = set()\n",
    "\n",
    "    # Try bird_attr relation first (bird_name -> attr -> value)\n",
    "    try:\n",
    "        names = run(0, x, bird_attr(x, attr, value))\n",
    "        for n in names:\n",
    "            if n not in seen:\n",
    "                seen.add(n)\n",
    "                found_names.append(n)\n",
    "    except NameError:\n",
    "        # bird_attr not defined; fall back to inspection\n",
    "        pass\n",
    "\n",
    "    # If attr is family.<subattr>, split\n",
    "    family_subattr = None\n",
    "    if attr.startswith('family.'):\n",
    "        _, family_subattr = attr.split('.', 1)\n",
    "\n",
    "    # Inspect birds in order to preserve original ordering\n",
    "    for b in birds:\n",
    "        if b.name in seen:\n",
    "            continue\n",
    "        # Direct bird attribute\n",
    "        if not family_subattr:\n",
    "            if hasattr(b, attr) and getattr(b, attr, None) == value:\n",
    "                seen.add(b.name)\n",
    "                found_names.append(b.name)\n",
    "                continue\n",
    "        # Family attribute check\n",
    "        fam = b.family\n",
    "        if family_subattr:\n",
    "            # If family attached as Family instance, check its attribute\n",
    "            if isinstance(fam, Family):\n",
    "                if getattr(fam, family_subattr, None) == value:\n",
    "                    if b.name not in seen:\n",
    "                        seen.add(b.name)\n",
    "                        found_names.append(b.name)\n",
    "                        continue\n",
    "            # If family stored as string, compare directly when subattr is 'name'\n",
    "            elif family_subattr == 'name' and isinstance(fam, str) and fam == value:\n",
    "                if b.name not in seen:\n",
    "                    seen.add(b.name)\n",
    "                    found_names.append(b.name)\n",
    "                    continue\n",
    "        # Also consider bird.order where order may be Order instance\n",
    "        if attr == 'order' and hasattr(b, 'order'):\n",
    "            ordval = getattr(b, 'order')\n",
    "            ord_name = ordval.name if hasattr(ordval, 'name') else ordval\n",
    "            if ord_name == value:\n",
    "                if b.name not in seen:\n",
    "                    seen.add(b.name)\n",
    "                    found_names.append(b.name)\n",
    "                    continue\n",
    "\n",
    "    if return_names:\n",
    "        return found_names\n",
    "    else:\n",
    "        # Return Bird objects in the same order as found_names\n",
    "        name_to_bird = {b.name: b for b in birds}\n",
    "        return [name_to_bird[n] for n in found_names if n in name_to_bird]"
   ]
  },
  {
   "cell_type": "code",
   "execution_count": 75,
   "id": "527959f5",
   "metadata": {},
   "outputs": [],
   "source": [
    "def get_birds_by_family_attr(attr: str, value, *, return_names: bool = False):\n",
    "    \"\"\"Return Bird objects (or names) whose family's attribute `attr` equals `value`.\n",
    "\n",
    "    Improved behavior:\n",
    "    - Uses `fam_attr` relation when available to find matching family names.\n",
    "    - Inspects attached Family instances on Bird objects (handles Order instances by comparing `.name`).\n",
    "    - Deduplicates results and preserves the original `birds` ordering.\n",
    "\n",
    "    Args:\n",
    "        attr: family attribute name to match (e.g., 'order', 'wings', 'name').\n",
    "        value: value to match.\n",
    "        return_names: if True return list of bird name strings; otherwise return Bird objects.\n",
    "    \"\"\"\n",
    "    x = var()\n",
    "    family_names = set()\n",
    "    try:\n",
    "        family_names.update(run(0, x, fam_attr(x, attr, value)))\n",
    "    except NameError:\n",
    "        # fam_attr not defined; will inspect attached Family instances\n",
    "        pass\n",
    "\n",
    "    results_names = []\n",
    "    seen = set()\n",
    "\n",
    "    # First, add birds whose family name matches via fam_attr\n",
    "    if family_names:\n",
    "        for b in birds:\n",
    "            fam = b.family\n",
    "            fname = fam.name if isinstance(fam, Family) else fam\n",
    "            if fname in family_names and b.name not in seen:\n",
    "                seen.add(b.name)\n",
    "                results_names.append(b.name)\n",
    "\n",
    "    # Then inspect attached Family instances directly\n",
    "    for b in birds:\n",
    "        if b.name in seen:\n",
    "            continue\n",
    "        fam = b.family\n",
    "        if isinstance(fam, Family):\n",
    "            # handle the case where fam.order may be an Order instance\n",
    "            v = getattr(fam, attr, None)\n",
    "            if v is None:\n",
    "                continue\n",
    "            compare_val = v.name if hasattr(v, 'name') else v\n",
    "            if compare_val == value:\n",
    "                seen.add(b.name)\n",
    "                results_names.append(b.name)\n",
    "                continue\n",
    "        # If family is stored as a string, we can match only when attr == 'name'\n",
    "        if isinstance(fam, str) and attr == 'name' and fam == value:\n",
    "            seen.add(b.name)\n",
    "            results_names.append(b.name)\n",
    "\n",
    "    if return_names:\n",
    "        return results_names\n",
    "    else:\n",
    "        name_to_bird = {b.name: b for b in birds}\n",
    "        return [name_to_bird[n] for n in results_names if n in name_to_bird]"
   ]
  },
  {
   "cell_type": "code",
   "execution_count": 76,
   "id": "13c9a4ae",
   "metadata": {},
   "outputs": [
    {
     "name": "stdout",
     "output_type": "stream",
     "text": [
      "Example: birds with color == \"white\" -> ['laysan-albatross', 'snow-goose', 'whistling-swan', 'trumpeter-swan']\n"
     ]
    }
   ],
   "source": [
    "# Example usage\n",
    "print('Example: birds with color == \"white\" ->', [b.name for b in get_birds_by_attr('color', 'white')])"
   ]
  },
  {
   "cell_type": "code",
   "execution_count": 77,
   "id": "164b74d4",
   "metadata": {},
   "outputs": [
    {
     "name": "stdout",
     "output_type": "stream",
     "text": [
      "['great-crested-flycatcher', 'ash-throated-flycatcher', 'barn-swallow', 'cliff-swallow', 'purple-martin']\n"
     ]
    }
   ],
   "source": [
    "# Example: all birds whose family order is 'passerformes' (flycatcher, swallow)\n",
    "example = get_birds_by_family_attr('order', 'passerformes')\n",
    "print([b.name for b in example])"
   ]
  },
  {
   "cell_type": "code",
   "execution_count": 78,
   "id": "f8014571",
   "metadata": {},
   "outputs": [
    {
     "name": "stdout",
     "output_type": "stream",
     "text": [
      "\n",
      "Birds returned by get_birds_by_family_attr(\"order\", \"passerformes\"):\n",
      "['ash-throated-flycatcher',\n",
      " 'barn-swallow',\n",
      " 'cliff-swallow',\n",
      " 'great-crested-flycatcher',\n",
      " 'purple-martin']\n"
     ]
    }
   ],
   "source": [
    "res = get_birds_by_family_attr('order', 'passerformes')\n",
    "res_names = {b.name for b in res}\n",
    "print('\\nBirds returned by get_birds_by_family_attr(\"order\", \"passerformes\"):')\n",
    "pprint(sorted(res_names))"
   ]
  },
  {
   "cell_type": "markdown",
   "id": "72e4819b",
   "metadata": {},
   "source": [
    "Quick-check/assertion code to confirm attachment of Family to birds"
   ]
  },
  {
   "cell_type": "code",
   "execution_count": 79,
   "id": "a91d56a2",
   "metadata": {},
   "outputs": [
    {
     "name": "stdout",
     "output_type": "stream",
     "text": [
      "Birds with Family instances attached (sample):\n",
      "['laysan-albatross',\n",
      " 'black-footed-albatross',\n",
      " 'whistling-swan',\n",
      " 'trumpeter-swan',\n",
      " 'canada-goose',\n",
      " 'canada-goose',\n",
      " 'snow-goose',\n",
      " 'mallard',\n",
      " 'pintail',\n",
      " 'turkey-vulture',\n",
      " 'california-condor',\n",
      " 'sparrow-hawk',\n",
      " 'peregrine-falcon',\n",
      " 'great-crested-flycatcher',\n",
      " 'ash-throated-flycatcher',\n",
      " 'barn-swallow',\n",
      " 'cliff-swallow',\n",
      " 'purple-martin']\n",
      "\n",
      "Birds still holding a family string (not matched to families dict):\n",
      "[]\n",
      "\n",
      "Birds returned by get_birds_by_family_attr(\"order\", \"passerformes\"):\n",
      "['ash-throated-flycatcher',\n",
      " 'barn-swallow',\n",
      " 'cliff-swallow',\n",
      " 'great-crested-flycatcher',\n",
      " 'purple-martin']\n",
      "\n",
      "All expected passerformes members found.\n",
      "\n",
      "All checks passed.\n"
     ]
    }
   ],
   "source": [
    "# Quick checks that Family instances were attached and helper works\n",
    "attached = [b.name for b in birds if isinstance(b.family, Family)]\n",
    "still_strings = [b.name for b in birds if isinstance(b.family, str)]\n",
    "\n",
    "print('Birds with Family instances attached (sample):')\n",
    "pprint(attached)\n",
    "print('\\nBirds still holding a family string (not matched to families dict):')\n",
    "pprint(still_strings)\n",
    "\n",
    "# Sanity assertion: known flycatchers should have been attached\n",
    "assert 'great-crested-flycatcher' in attached, \"great-crested-flycatcher should have Family attached\"\n",
    "assert 'ash-throated-flycatcher' in attached, \"ash-throated-flycatcher should have Family attached\"\n",
    "\n",
    "# Test the helper get_birds_by_family_attr for order 'passerformes'\n",
    "res = get_birds_by_family_attr('order', 'passerformes')\n",
    "res_names = {b.name for b in res}\n",
    "print('\\nBirds returned by get_birds_by_family_attr(\"order\", \"passerformes\"):')\n",
    "pprint(sorted(res_names))\n",
    "\n",
    "expected = {\n",
    "    'great-crested-flycatcher',\n",
    "    'ash-throated-flycatcher',\n",
    "    'barn-swallow',\n",
    "    'cliff-swallow',\n",
    "    'purple-martin'\n",
    "}\n",
    "missing = expected - res_names\n",
    "if missing:\n",
    "    print('\\nWarning: expected family members missing:', missing)\n",
    "else:\n",
    "    print('\\nAll expected passerformes members found.')\n",
    "\n",
    "# Final assertion to ensure helper returns at least the expected names\n",
    "assert expected.issubset(res_names), f\"Missing expected passerformes members: {expected - res_names}\"\n",
    "\n",
    "print('\\nAll checks passed.')"
   ]
  }
 ],
 "metadata": {
  "kernelspec": {
   "display_name": "Python 3",
   "language": "python",
   "name": "python3"
  },
  "language_info": {
   "codemirror_mode": {
    "name": "ipython",
    "version": 3
   },
   "file_extension": ".py",
   "mimetype": "text/x-python",
   "name": "python",
   "nbconvert_exporter": "python",
   "pygments_lexer": "ipython3",
   "version": "3.11.7"
  }
 },
 "nbformat": 4,
 "nbformat_minor": 5
}
