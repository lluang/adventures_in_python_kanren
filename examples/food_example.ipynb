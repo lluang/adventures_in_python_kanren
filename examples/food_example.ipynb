{
 "cells": [
  {
   "cell_type": "markdown",
   "id": "e8d74669",
   "metadata": {},
   "source": [
    "Based on tutorial at https://github.com/MNoorFawi/logic-programming-in-python"
   ]
  },
  {
   "cell_type": "code",
   "execution_count": 2,
   "id": "918562e5",
   "metadata": {},
   "outputs": [],
   "source": [
    "from kanren import *"
   ]
  },
  {
   "cell_type": "code",
   "execution_count": null,
   "id": "325e5db2",
   "metadata": {},
   "outputs": [
    {
     "data": {
      "text/plain": [
       "('limonade', 'cookie')"
      ]
     },
     "execution_count": 3,
     "metadata": {},
     "output_type": "execute_result"
    }
   ],
   "source": [
    "food_type = Relation() #initiate relations class to construct the facts\n",
    "flavor = Relation()\n",
    "\n",
    "facts(food_type, (\"gouda\", \"cheese\"), # facts\n",
    "                 (\"ritz\", \"cracker\"),\n",
    "                 (\"steak\", \"meat\"),\n",
    "                 (\"sausage\", \"meat\"),\n",
    "                 (\"limonade\", \"juice\"),\n",
    "                 (\"cookie\", \"dessert\"))\n",
    "\n",
    "facts(flavor, (\"sweet\", \"dessert\"),\n",
    "              (\"savory\", \"meat\"),\n",
    "              (\"savory\", \"cheese\"),\n",
    "              (\"sweet\", \"juice\"))\n",
    "\n",
    "food_flavor, food_v, flavor_v = var(), var(), var() # define the variables to use in the search\n",
    "\n",
    "run(0, food_flavor, food_type(food_flavor, food_v), #run the search for food items that are \"sweet\"\n",
    "                    flavor(\"sweet\", food_v))\n",
    "## ('limonade', 'cookie')"
   ]
  },
  {
   "cell_type": "markdown",
   "id": "0f52dffd",
   "metadata": {},
   "source": [
    "We can do the search in another more reproducible appraoch which is to define a function. Here it comes the power of combining the Logic Paradigm with Python. We can define functions to do the rule-based searching and we can loop over DataFrames, files etc to construct rules and facts without writing them all."
   ]
  },
  {
   "cell_type": "code",
   "execution_count": 5,
   "id": "a7c64e25",
   "metadata": {},
   "outputs": [
    {
     "name": "stdout",
     "output_type": "stream",
     "text": [
      "('limonade', 'cookie')\n",
      "('steak', 'gouda', 'sausage')\n"
     ]
    }
   ],
   "source": [
    "def food_flavor(x, y):\n",
    "    z = var()\n",
    "    #return lall(food_type(x, z), flavor(y, z)) #lall logical all\n",
    "    # conde condition takes a tuple with a coma (x, y) to express if x and y\n",
    "    # or can be expressed with multiple tuples like this ((x), (y))\n",
    "    return conde((food_type(x, z), flavor(y, z)))\n",
    "\n",
    "what = var() # the variable we will search for\n",
    "print(run(0, what, food_flavor(what, \"sweet\")))\n",
    "# ('limonade', 'cookie')\n",
    "\n",
    "print(run(0, what, food_flavor(what, \"savory\")))\n",
    "# ('steak', 'sausage', 'gouda')"
   ]
  },
  {
   "cell_type": "code",
   "execution_count": 6,
   "id": "fa03d129",
   "metadata": {},
   "outputs": [
    {
     "name": "stdout",
     "output_type": "stream",
     "text": [
      "['Nikita']\n"
     ]
    }
   ],
   "source": [
    "likes = Relation()\n",
    "facts(likes, (\"Noor\", \"sausage\"),\n",
    "             (\"Melissa\", \"pasta\"),\n",
    "             (\"Dmitry\", \"cookie\"),\n",
    "             (\"Nikita\", \"sausage\"),\n",
    "             (\"Assel\", \"limonade\"))\n",
    "\n",
    "def friend(x, y): ## let's search for friends who like the same dish\n",
    "    z = var()\n",
    "    return conde((likes(x, z), likes(y, z)))\n",
    "\n",
    "# Who is friend of Noor?\n",
    "who = var()\n",
    "name = \"Noor\"\n",
    "output = run(0, who, friend(who, name))\n",
    "print([x for x in output if x != name])\n",
    "#['Nikita']"
   ]
  },
  {
   "cell_type": "markdown",
   "id": "c4f057f1",
   "metadata": {},
   "source": [
    "Let’s go beyond just searching and used some rule-based inference to recommend a dish to a person. We will use these rules: if someone likes a dish of a certain type that has a certain flavor, so most probably they would like other dishes with the same flavor.\n",
    "\n"
   ]
  },
  {
   "cell_type": "code",
   "execution_count": 7,
   "id": "08fb0a32",
   "metadata": {},
   "outputs": [
    {
     "name": "stdout",
     "output_type": "stream",
     "text": [
      "since Noor has liked Sausage, he would like: ('steak', 'gouda', 'sausage')\n"
     ]
    }
   ],
   "source": [
    "def dish_to_like(person, what):\n",
    "    liked = var()\n",
    "    foodtype = var()\n",
    "    foodflavor = var()\n",
    "    return lall(likes(person, liked), food_type(liked, foodtype), \n",
    "                flavor(foodflavor, foodtype), food_flavor(what, foodflavor))\n",
    "\n",
    "## let's recommend a dish to Noor who already liked sausage \n",
    "what = var()\n",
    "dish = run(0, what, dish_to_like(\"Noor\", what))\n",
    "print(\"since Noor has liked Sausage, he would like:\", dish)\n",
    "\n",
    "#since Noor has liked Sausage, he would like: ('gouda', 'steak', 'sausage')"
   ]
  },
  {
   "cell_type": "markdown",
   "id": "2ab8abce",
   "metadata": {},
   "source": []
  }
 ],
 "metadata": {
  "kernelspec": {
   "display_name": "Python 3",
   "language": "python",
   "name": "python3"
  },
  "language_info": {
   "codemirror_mode": {
    "name": "ipython",
    "version": 3
   },
   "file_extension": ".py",
   "mimetype": "text/x-python",
   "name": "python",
   "nbconvert_exporter": "python",
   "pygments_lexer": "ipython3",
   "version": "3.11.7"
  }
 },
 "nbformat": 4,
 "nbformat_minor": 5
}
